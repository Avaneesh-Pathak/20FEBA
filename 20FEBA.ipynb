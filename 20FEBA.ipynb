{
 "cells": [
  {
   "cell_type": "code",
   "execution_count": null,
   "id": "03dd9ee0-115a-4fb5-9008-bb1adafe9835",
   "metadata": {},
   "outputs": [],
   "source": [
    "'''Explain GET and POST methods"
   ]
  },
  {
   "cell_type": "code",
   "execution_count": null,
   "id": "cb8c8e73-2fd5-4dbe-9e5f-9fceef0310b2",
   "metadata": {},
   "outputs": [],
   "source": [
    "---->  Both GET and POST method is used to transfer data from client to server in HTTP protocol but\n",
    "Main difference between POST and GET method is that GET carries request parameter appended\n",
    "in URL string while POST carries request parameter in message body which makes it more secure\n",
    "way of transferring data from client to server."
   ]
  },
  {
   "cell_type": "code",
   "execution_count": null,
   "id": "a0d09a8a-2f9d-4824-b41a-3da9a6cd782c",
   "metadata": {},
   "outputs": [],
   "source": [
    "'''Q2. Why is request used in Flask?"
   ]
  },
  {
   "cell_type": "code",
   "execution_count": null,
   "id": "465ac63f-cb34-47e5-ad41-ec41f86d267d",
   "metadata": {},
   "outputs": [],
   "source": [
    "The Request, in Flask, is an object that contains all the data sent from the Client to Server.\n",
    "This data can be recovered using the GET/POST Methods."
   ]
  },
  {
   "cell_type": "code",
   "execution_count": null,
   "id": "a566397c-2b4d-4274-b0b3-83b280be1d0e",
   "metadata": {},
   "outputs": [],
   "source": [
    "'''Why is redirect() used in Flask?"
   ]
  },
  {
   "cell_type": "code",
   "execution_count": null,
   "id": "1678a26f-25b9-4253-899a-de6111195292",
   "metadata": {},
   "outputs": [],
   "source": [
    "----->  In Flask, redirect() is used to redirect the user's browser to a different URL.\n",
    "        It is a helper function that creates a response object and sets the appropriate headers to instruct the browser to visit a different URL."
   ]
  },
  {
   "cell_type": "code",
   "execution_count": null,
   "id": "f054786d-e007-44e3-b306-4dbe5937fd76",
   "metadata": {},
   "outputs": [],
   "source": [
    "'''What are templates in Flask? Why is the render_template() function used?"
   ]
  },
  {
   "cell_type": "code",
   "execution_count": null,
   "id": "a94c6520-2fd1-4210-8cf6-29c9513244c5",
   "metadata": {},
   "outputs": [],
   "source": [
    "---> Templates are files that contain static data as well as placeholders for dynamic data.\n",
    "     A template is rendered with specific data to produce a final document.\n",
    "     Flask uses the Jinja template library to render templates.\n",
    "    In your application, you will use templates to render HTML which will display in the user's browser.\n",
    "    \n",
    "    \n",
    "    The render_template() function is used to render a template and return the resulting HTML to the browser.\n",
    "    The function takes the name of the template file as its first argument, followed by any additional keyword arguments representing the dynamic content that should be inserted into the template."
   ]
  },
  {
   "cell_type": "code",
   "execution_count": null,
   "id": "78687f91-8785-41f2-a995-41857ecf06fe",
   "metadata": {},
   "outputs": [],
   "source": [
    "'''Create a simple API. Use Postman to test it. Attach the screenshot of the output in the Jupyter Notebook."
   ]
  },
  {
   "cell_type": "code",
   "execution_count": null,
   "id": "7179fdb0-ea62-4cf9-8764-44cdbf7b711c",
   "metadata": {},
   "outputs": [],
   "source": [
    "from flask import Flask, jsonify\n",
    "\n",
    "app = Flask(__name__)\n",
    "\n",
    "@app.route('/')\n",
    "def hello():\n",
    "    return 'Hello, World!'\n",
    "\n",
    "@app.route('/api/data', methods=['GET'])\n",
    "def get_data():\n",
    "    data = {'name': 'John', 'age': 30, 'city': 'New York'}\n",
    "    return jsonify(data)\n",
    "\n",
    "if __name__ == '__main__':\n",
    "    app.run(host=\"0.0.0.0\")\n"
   ]
  },
  {
   "cell_type": "markdown",
   "id": "1b1ecb9f-d1fd-4454-9f05-d8828421c3d8",
   "metadata": {},
   "source": []
  }
 ],
 "metadata": {
  "kernelspec": {
   "display_name": "Python 3 (ipykernel)",
   "language": "python",
   "name": "python3"
  },
  "language_info": {
   "codemirror_mode": {
    "name": "ipython",
    "version": 3
   },
   "file_extension": ".py",
   "mimetype": "text/x-python",
   "name": "python",
   "nbconvert_exporter": "python",
   "pygments_lexer": "ipython3",
   "version": "3.10.8"
  }
 },
 "nbformat": 4,
 "nbformat_minor": 5
}
